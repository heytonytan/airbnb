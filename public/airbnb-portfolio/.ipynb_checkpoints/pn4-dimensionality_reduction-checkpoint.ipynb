{
 "cells": [
  {
   "cell_type": "markdown",
   "metadata": {},
   "source": [
    "# Part 4 - Dimensionality Reduction\n",
    "To ready the data for analysis, we will seek to reduce the number of fields to a more manageable number, before we apply data science techniques on it. The technique we will use is Principal Component Analysis (PCA), with the approach of grouping up fields in similar catagories."
   ]
  },
  {
   "cell_type": "code",
   "execution_count": 1,
   "metadata": {
    "collapsed": false
   },
   "outputs": [
    {
     "name": "stderr",
     "output_type": "stream",
     "text": [
      "/Users/tonyktan/Desktop/GA/anaconda2/lib/python2.7/site-packages/matplotlib/__init__.py:872: UserWarning: axes.color_cycle is deprecated and replaced with axes.prop_cycle; please use the latter.\n",
      "  warnings.warn(self.msg_depr % (key, alt_key))\n"
     ]
    }
   ],
   "source": [
    "%matplotlib inline\n",
    "import pandas as pd\n",
    "import numpy as np\n",
    "import seaborn as sns\n",
    "from matplotlib import pyplot as plt\n",
    "\n",
    "# Data sourced from Inside Airbnb (http://insideairbnb.com/get-the-data.html)\n",
    "# A million thanks to Murray Cox\n",
    "abnb_listings = pd.read_csv(\"airbnb-sf-data/listings2.csv\")\n",
    "\n",
    "## Full list of available fields \n",
    "# calendar = pd.read_csv(\"airbnb-sf-data/calendar.csv\")\n",
    "# calendar2 = pd.read_csv(\"airbnb-sf-data/calendar2.csv\")\n",
    "# listings = pd.read_csv(\"airbnb-sf-data/listings.csv\")\n",
    "# listings2 = pd.read_csv(\"airbnb-sf-data/listings2.csv\")\n",
    "# nhoods = pd.read_csv(\"airbnb-sf-data/neighbourhoods.csv\")\n",
    "# reviews = pd.read_csv(\"airbnb-sf-data/reviews.csv\")\n",
    "# reviews2 = pd.read_csv(\"airbnb-sf-data/reviews2.csv\")"
   ]
  },
  {
   "cell_type": "markdown",
   "metadata": {},
   "source": [
    "The objective of this section is to reduce the dimensions of the listings data into the following fields:\n",
    "1. ID, Lat and Long\n",
    "2. Location\n",
    "3. Space\n",
    "4. Price\n",
    "5. Description\n",
    "6. Host\n",
    "7. Rating\n",
    "8. Reviews Per Month"
   ]
  },
  {
   "cell_type": "code",
   "execution_count": 2,
   "metadata": {
    "collapsed": false
   },
   "outputs": [
    {
     "data": {
      "text/plain": [
       "['id',\n",
       " 'listing_url',\n",
       " 'scrape_id',\n",
       " 'last_scraped',\n",
       " 'name',\n",
       " 'summary',\n",
       " 'space',\n",
       " 'description',\n",
       " 'experiences_offered',\n",
       " 'neighborhood_overview',\n",
       " 'notes',\n",
       " 'transit',\n",
       " 'thumbnail_url',\n",
       " 'medium_url',\n",
       " 'picture_url',\n",
       " 'xl_picture_url',\n",
       " 'host_id',\n",
       " 'host_url',\n",
       " 'host_name',\n",
       " 'host_since',\n",
       " 'host_location',\n",
       " 'host_about',\n",
       " 'host_response_time',\n",
       " 'host_response_rate',\n",
       " 'host_acceptance_rate',\n",
       " 'host_is_superhost',\n",
       " 'host_thumbnail_url',\n",
       " 'host_picture_url',\n",
       " 'host_neighbourhood',\n",
       " 'host_listings_count',\n",
       " 'host_total_listings_count',\n",
       " 'host_verifications',\n",
       " 'host_has_profile_pic',\n",
       " 'host_identity_verified',\n",
       " 'street',\n",
       " 'neighbourhood',\n",
       " 'neighbourhood_cleansed',\n",
       " 'neighbourhood_group_cleansed',\n",
       " 'city',\n",
       " 'state',\n",
       " 'zipcode',\n",
       " 'market',\n",
       " 'smart_location',\n",
       " 'country_code',\n",
       " 'country',\n",
       " 'latitude',\n",
       " 'longitude',\n",
       " 'is_location_exact',\n",
       " 'property_type',\n",
       " 'room_type',\n",
       " 'accommodates',\n",
       " 'bathrooms',\n",
       " 'bedrooms',\n",
       " 'beds',\n",
       " 'bed_type',\n",
       " 'amenities',\n",
       " 'square_feet',\n",
       " 'price',\n",
       " 'weekly_price',\n",
       " 'monthly_price',\n",
       " 'security_deposit',\n",
       " 'cleaning_fee',\n",
       " 'guests_included',\n",
       " 'extra_people',\n",
       " 'minimum_nights',\n",
       " 'maximum_nights',\n",
       " 'calendar_updated',\n",
       " 'has_availability',\n",
       " 'availability_30',\n",
       " 'availability_60',\n",
       " 'availability_90',\n",
       " 'availability_365',\n",
       " 'calendar_last_scraped',\n",
       " 'number_of_reviews',\n",
       " 'first_review',\n",
       " 'last_review',\n",
       " 'review_scores_rating',\n",
       " 'review_scores_accuracy',\n",
       " 'review_scores_cleanliness',\n",
       " 'review_scores_checkin',\n",
       " 'review_scores_communication',\n",
       " 'review_scores_location',\n",
       " 'review_scores_value',\n",
       " 'requires_license',\n",
       " 'license',\n",
       " 'jurisdiction_names',\n",
       " 'instant_bookable',\n",
       " 'cancellation_policy',\n",
       " 'require_guest_profile_picture',\n",
       " 'require_guest_phone_verification',\n",
       " 'calculated_host_listings_count',\n",
       " 'reviews_per_month']"
      ]
     },
     "execution_count": 2,
     "metadata": {},
     "output_type": "execute_result"
    }
   ],
   "source": [
    "list(abnb_listings.columns)"
   ]
  },
  {
   "cell_type": "markdown",
   "metadata": {},
   "source": [
    "## 1. ID, Lat, and Long"
   ]
  },
  {
   "cell_type": "code",
   "execution_count": 3,
   "metadata": {
    "collapsed": false
   },
   "outputs": [],
   "source": [
    "listingid = abnb_listings['id']\n",
    "latlong = abnb_listings[['latitude','longitude']]"
   ]
  },
  {
   "cell_type": "markdown",
   "metadata": {},
   "source": [
    "## 2. Location"
   ]
  },
  {
   "cell_type": "code",
   "execution_count": 4,
   "metadata": {
    "collapsed": false
   },
   "outputs": [],
   "source": [
    "locationfields = [\n",
    " 'latitude','longitude',\n",
    " 'neighbourhood_cleansed',\n",
    "]\n",
    "\n",
    "## there are other location-related fields omitted:\n",
    "#'street', proxy with zipcode\n",
    "# 'zipcode', too many levels\n",
    "#'neighbourhood', proxy with neighbourhood_cleansed\n",
    "#'neighbourhood_group_cleansed', is NaN\n",
    "#'city','state', equivalent to smart_location \n",
    "#'market', equivalent to city\n",
    "#'country', equivalent to country code\n",
    "#'is_location_exact', omit\n",
    "#'smart_location', provisions for multi-city sets, same for entire dataset\n",
    "#'country_code', provisions for multi-country sets, same for entire dataset\n",
    "\n",
    "locationpre = abnb_listings[locationfields]"
   ]
  },
  {
   "cell_type": "code",
   "execution_count": 5,
   "metadata": {
    "collapsed": false
   },
   "outputs": [
    {
     "name": "stderr",
     "output_type": "stream",
     "text": [
      "/Users/tonyktan/Desktop/GA/anaconda2/lib/python2.7/site-packages/ipykernel/__main__.py:4: SettingWithCopyWarning: \n",
      "A value is trying to be set on a copy of a slice from a DataFrame.\n",
      "Try using .loc[row_indexer,col_indexer] = value instead\n",
      "\n",
      "See the caveats in the documentation: http://pandas.pydata.org/pandas-docs/stable/indexing.html#indexing-view-versus-copy\n"
     ]
    }
   ],
   "source": [
    "from sklearn.preprocessing import LabelEncoder\n",
    "numerify = LabelEncoder()\n",
    "\n",
    "locationpre['neighbourhood_cleansed'] = numerify.fit_transform(locationpre['neighbourhood_cleansed'].astype('str'))\n",
    "\n",
    "from sklearn.decomposition import PCA\n",
    "pca = PCA(n_components=2)\n",
    "location = pca.fit_transform(locationpre)\n",
    "location = [i[0] for i in location]\n",
    "location = pd.DataFrame(pd.Series(location), columns=[\"location\"])"
   ]
  },
  {
   "cell_type": "code",
   "execution_count": null,
   "metadata": {
    "collapsed": false
   },
   "outputs": [
    {
     "name": "stderr",
     "output_type": "stream",
     "text": [
      "/Users/tonyktan/Desktop/GA/anaconda2/lib/python2.7/site-packages/matplotlib/__init__.py:892: UserWarning: axes.color_cycle is deprecated and replaced with axes.prop_cycle; please use the latter.\n",
      "  warnings.warn(self.msg_depr % (key, alt_key))\n"
     ]
    },
    {
     "data": {
      "text/plain": [
       "<matplotlib.text.Text at 0x1134999d0>"
      ]
     },
     "execution_count": 6,
     "metadata": {},
     "output_type": "execute_result"
    }
   ],
   "source": [
    "# Scatter plot based and assigne color based on 'label - y'\n",
    "sns.lmplot('latitude', 'longitude', data=locationpre, fit_reg = False, hue = 'neighbourhood_cleansed', size = 15, scatter_kws={\"s\": 100})\n",
    " \n",
    "# set the maximum variance of the first two PCs\n",
    "# this will be the end point of the arrow of each **original features**\n",
    "xvector = pca.components_[0]\n",
    "yvector = pca.components_[1]\n",
    "2 \n",
    "# value of the first two PCs, set the x, y axis boundary\n",
    "xs = pca.transform(locationpre)[:,0]\n",
    "ys = pca.transform(locationpre)[:,1]\n",
    " \n",
    "## visualize projections\n",
    " \n",
    "## Note: scale values for arrows and text are a bit inelegant as of now,\n",
    "##       so feel free to play around with them\n",
    "for i in range(len(xvector)):\n",
    "    # arrows project features (ie columns from csv) as vectors onto PC axes\n",
    "    # we can adjust length and the size of the arrow\n",
    "    plt.arrow(0, 0, xvector[i]*max(xs), yvector[i]*max(ys),\n",
    "              color='r', width=0.005, head_width=0.05)\n",
    "    plt.text(xvector[i]*max(xs)*1.1, yvector[i]*max(ys)*1.1,\n",
    "             list(locationpre.columns.values)[i], color='r')\n",
    " \n",
    "for i in range(len(xs)):\n",
    "    plt.text(xs[i]*1.08, ys[i]*1.08, list(locationpre.index)[i], color='b') # index number of each observations\n",
    "plt.title('PCA Plot of first PCs')"
   ]
  },
  {
   "cell_type": "markdown",
   "metadata": {},
   "source": [
    "## 3. Space"
   ]
  },
  {
   "cell_type": "code",
   "execution_count": null,
   "metadata": {
    "collapsed": false
   },
   "outputs": [],
   "source": [
    "spacefields = [\n",
    " 'property_type',\n",
    " 'room_type',\n",
    " 'accommodates',\n",
    " 'bathrooms',\n",
    " 'bedrooms',\n",
    " 'beds',\n",
    " 'bed_type'\n",
    "]\n",
    "space = abnb_listings[spacefields]\n",
    "space['wireless'] = abnb_listings.amenities.apply(lambda x: 1 if \"Wireless Internet\" in x else 0)\n",
    "space.room_type = space.room_type.map({\n",
    "\"Shared room\": 0,\n",
    "\"Private room\": 1,\n",
    "\"Entire home/apt\":2\n",
    "})\n",
    "space.property_type = space.property_type.map({\n",
    "\"Other\": 0,\n",
    "\"Dorm\": 1,\n",
    "\"Bed & Breakfast\": 1,\n",
    "\"Cabin\": 1,\n",
    "\"Camper/RV\": 1,\n",
    "\"Boat\": 1,\n",
    "\"Yurt\": 1,\n",
    "\"Tent\": 1,\n",
    "\"Treehouse\": 1,\n",
    "\"Plane\": 1,\n",
    "\"Apartment\": 2,\n",
    "\"Condominium\": 2,\n",
    "\"Loft\": 2,\n",
    "\"Townhouse\": 2,\n",
    "\"House\": 2,        \n",
    "\"Bungalow\": 3,\n",
    "\"Villa\": 3,\n",
    "\"Island\": 4,\n",
    "\"Castle\": 4,\n",
    "})\n",
    "space.bed_type = space.bed_type.map({\n",
    "\"Couch\": 0,\n",
    "\"Airbed\": 1,\n",
    "\"Futon\": 2,\n",
    "\"Pull-out Sofa\": 2,\n",
    "\"Real Bed\": 3  \n",
    "})\n",
    "space.fillna(0, inplace=True)\n",
    "\n",
    "space = pca.fit_transform(space)\n",
    "space = [i[0] for i in space]\n",
    "space = pd.DataFrame(pd.Series(space), columns=[\"space\"])"
   ]
  },
  {
   "cell_type": "code",
   "execution_count": null,
   "metadata": {
    "collapsed": true
   },
   "outputs": [],
   "source": [
    "# Scatter plot based and assigne color based on 'label - y'\n",
    "sns.lmplot('beds', 'bathrooms', data=space, fit_reg = False, hue = 'property_type', size = 15, scatter_kws={\"s\": 100})\n",
    " \n",
    "# set the maximum variance of the first two PCs\n",
    "# this will be the end point of the arrow of each **original features**\n",
    "xvector = pca.components_[0]\n",
    "yvector = pca.components_[1]\n",
    "2 \n",
    "# value of the first two PCs, set the x, y axis boundary\n",
    "xs = pca.transform(locationpre)[:,0]\n",
    "ys = pca.transform(locationpre)[:,1]\n",
    " \n",
    "## visualize projections\n",
    " \n",
    "## Note: scale values for arrows and text are a bit inelegant as of now,\n",
    "##       so feel free to play around with them\n",
    "for i in range(len(xvector)):\n",
    "    # arrows project features (ie columns from csv) as vectors onto PC axes\n",
    "    # we can adjust length and the size of the arrow\n",
    "    plt.arrow(0, 0, xvector[i]*max(xs), yvector[i]*max(ys),\n",
    "              color='r', width=0.005, head_width=0.05)\n",
    "    plt.text(xvector[i]*max(xs)*1.1, yvector[i]*max(ys)*1.1,\n",
    "             list(locationpre.columns.values)[i], color='r')\n",
    " \n",
    "for i in range(len(xs)):\n",
    "    plt.text(xs[i]*1.08, ys[i]*1.08, list(locationpre.index)[i], color='b') # index number of each observations\n",
    "plt.title('PCA Plot of first PCs')"
   ]
  },
  {
   "cell_type": "markdown",
   "metadata": {},
   "source": [
    "## 4. Price"
   ]
  },
  {
   "cell_type": "code",
   "execution_count": null,
   "metadata": {
    "collapsed": false
   },
   "outputs": [],
   "source": [
    "pricefields = [\n",
    " 'price',\n",
    "# 'weekly_price', # too many NaNs\n",
    "# 'monthly_price', # too many NaNs\n",
    " 'security_deposit',\n",
    " 'cleaning_fee',\n",
    " 'extra_people'\n",
    "]\n",
    "price = abnb_listings[pricefields]\n",
    "price.fillna(\"$0\", inplace=True)\n",
    "for field in pricefields:\n",
    "    price[field] = price[field].replace( '[\\$,)]','', regex=True ).replace( '[(]','-',   regex=True ).astype(float)\n",
    "\n",
    "# Do away with PCA and just normalize price for addon costs\n",
    "# price = pca.fit_transform(price)\n",
    "# price = [i[0] for i in price]\n",
    "# price = pd.DataFrame(pd.Series(price), columns=[\"price\"])\n",
    "price = pd.DataFrame(price.price + (price.security_deposit / 5) + \n",
    "                     (price.cleaning_fee / 3) + (price.extra_people / 3), columns=[\"price\"])"
   ]
  },
  {
   "cell_type": "markdown",
   "metadata": {},
   "source": [
    "## 5. Description"
   ]
  },
  {
   "cell_type": "code",
   "execution_count": null,
   "metadata": {
    "collapsed": false
   },
   "outputs": [],
   "source": [
    "descfields = [\n",
    " 'name',\n",
    " 'description',\n",
    " 'neighborhood_overview',\n",
    " 'notes',\n",
    " 'transit'\n",
    "]\n",
    "description = abnb_listings[descfields].fillna(\"\")\n",
    "description =  description['name'] + \" \" + description['description'] + \" \" + description['neighborhood_overview'] \\\n",
    "+ \" \" + description['notes'] + \" \" + description['transit']\n",
    "description = pd.DataFrame(description, columns=[\"description\"])"
   ]
  },
  {
   "cell_type": "markdown",
   "metadata": {},
   "source": [
    "## 6. Host"
   ]
  },
  {
   "cell_type": "code",
   "execution_count": null,
   "metadata": {
    "collapsed": false
   },
   "outputs": [],
   "source": [
    "hostfields = [\n",
    "#  'host_name',\n",
    "#  'host_since',\n",
    "#  'host_location',\n",
    "#  'host_about',\n",
    "#  'host_response_time',\n",
    "#  'host_response_rate',\n",
    "#  'host_acceptance_rate',\n",
    " 'host_is_superhost',\n",
    "#  'host_neighbourhood',\n",
    "#  'host_listings_count',\n",
    "#  'host_total_listings_count',\n",
    "#  'host_verifications',\n",
    "#  'host_has_profile_pic',\n",
    " 'host_identity_verified'\n",
    "]\n",
    "host = abnb_listings[hostfields]\n",
    "host.host_is_superhost = host.host_is_superhost.map({\n",
    "\"f\": 0,\n",
    "\"t\": 1\n",
    "    })\n",
    "host.host_identity_verified = host.host_identity_verified.map({\n",
    "\"f\": 0,\n",
    "\"t\": 1\n",
    "    })\n",
    "host = pd.DataFrame(host.host_is_superhost * 3 + host.host_identity_verified, columns=[\"host\"])"
   ]
  },
  {
   "cell_type": "markdown",
   "metadata": {},
   "source": [
    "## 7. Rating"
   ]
  },
  {
   "cell_type": "code",
   "execution_count": null,
   "metadata": {
    "collapsed": false,
    "scrolled": true
   },
   "outputs": [],
   "source": [
    "ratingfields = [\n",
    "'review_scores_rating', \n",
    "# 'review_scores_accuracy', # no need to overcomplicate things, just take the overall\n",
    "# 'review_scores_cleanliness',\n",
    "# 'review_scores_checkin',\n",
    "# 'review_scores_communication',\n",
    "# 'review_scores_location',\n",
    "# 'review_scores_value'\n",
    "]\n",
    "\n",
    "rating = abnb_listings[ratingfields]\n",
    "rating = rating.fillna(rating.mean())\n",
    "\n",
    "# from sklearn.preprocessing import StandardScaler\n",
    "# rating_std = StandardScaler().fit_transform(rating)\n",
    "# rating = pd.DataFrame(pca.fit_transform(rating_std), columns=[\"rating\"])"
   ]
  },
  {
   "cell_type": "code",
   "execution_count": null,
   "metadata": {
    "collapsed": false
   },
   "outputs": [],
   "source": [
    "rating.head(10)"
   ]
  },
  {
   "cell_type": "markdown",
   "metadata": {},
   "source": [
    "## 8. Reviews Per Month"
   ]
  },
  {
   "cell_type": "code",
   "execution_count": null,
   "metadata": {
    "collapsed": false
   },
   "outputs": [],
   "source": [
    "reviews_per_month = pd.DataFrame(abnb_listings[\"reviews_per_month\"], columns=[\"reviews_per_month\"])"
   ]
  },
  {
   "cell_type": "code",
   "execution_count": null,
   "metadata": {
    "collapsed": false
   },
   "outputs": [],
   "source": [
    "reviews_per_month.head()\n",
    "# not to fillna--merge and remove rows that do not have reviews per month"
   ]
  },
  {
   "cell_type": "markdown",
   "metadata": {},
   "source": [
    "# Concatenate Dataset"
   ]
  },
  {
   "cell_type": "code",
   "execution_count": null,
   "metadata": {
    "collapsed": true
   },
   "outputs": [],
   "source": [
    "frames = [listingid, latlong, location, description, space, price, host, rating, reviews_per_month]\n",
    "abnb_listings_redcd = pd.concat(frames, axis=1)"
   ]
  },
  {
   "cell_type": "code",
   "execution_count": null,
   "metadata": {
    "collapsed": false
   },
   "outputs": [],
   "source": [
    "abnb_listings_redcd.head(10)"
   ]
  },
  {
   "cell_type": "markdown",
   "metadata": {},
   "source": [
    "# Write reduced dataset to a CSV file"
   ]
  },
  {
   "cell_type": "code",
   "execution_count": null,
   "metadata": {
    "collapsed": true
   },
   "outputs": [],
   "source": [
    "abnb_listings_redcd.dropna().to_csv(\"abnb_listings_rdcd.csv\")"
   ]
  }
 ],
 "metadata": {
  "kernelspec": {
   "display_name": "Python 2",
   "language": "python",
   "name": "python2"
  },
  "language_info": {
   "codemirror_mode": {
    "name": "ipython",
    "version": 2
   },
   "file_extension": ".py",
   "mimetype": "text/x-python",
   "name": "python",
   "nbconvert_exporter": "python",
   "pygments_lexer": "ipython2",
   "version": "2.7.11"
  }
 },
 "nbformat": 4,
 "nbformat_minor": 0
}
